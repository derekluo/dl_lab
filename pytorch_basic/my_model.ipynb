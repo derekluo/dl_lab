{
 "cells": [
  {
   "cell_type": "code",
   "execution_count": 6,
   "id": "b11b6505-95e5-4628-857c-6d979b2d2648",
   "metadata": {},
   "outputs": [],
   "source": [
    "import torch\n",
    "import torch.nn as nn\n",
    "from pprint import pprint"
   ]
  },
  {
   "cell_type": "code",
   "execution_count": 7,
   "id": "cbdb5d2e-8022-4fea-93ee-6c3b47d9b59f",
   "metadata": {},
   "outputs": [],
   "source": [
    "class MyModel(nn.Module):\n",
    "    def __init__(self):\n",
    "        super().__init__()\n",
    "\n",
    "        # self.fc = nn.Linear(10, 2)\n",
    "        self.fc1 = nn.Linear(10, 2)\n",
    "        nn.init.xavier_uniform_(self.fc1.weight)\n",
    "        nn.init.zeros_(self.fc1.bias)\n",
    "\n",
    "        self.fc2 = nn.Linear(2, 2)\n",
    "        self.relu = nn.ReLU()\n",
    "\n",
    "    def forward(self, x):\n",
    "        return self.fc2(self.relu(self.fc1(x)))\n",
    "\n",
    "model = MyModel()"
   ]
  },
  {
   "cell_type": "code",
   "execution_count": 8,
   "id": "a692f33b-eec4-44df-b197-9d8174f32b70",
   "metadata": {},
   "outputs": [
    {
     "name": "stdout",
     "output_type": "stream",
     "text": [
      "<bound method Module.named_parameters of MyModel(\n",
      "  (fc1): Linear(in_features=10, out_features=2, bias=True)\n",
      "  (fc2): Linear(in_features=2, out_features=2, bias=True)\n",
      "  (relu): ReLU()\n",
      ")>\n"
     ]
    }
   ],
   "source": [
    "\n",
    "x = torch.randn(3, 10) # 3个样本, 每个样本10个特征\n",
    "output = model(x)\n",
    "\n",
    "pprint(model.named_parameters)"
   ]
  },
  {
   "cell_type": "code",
   "execution_count": 9,
   "id": "e03f8cb2-3415-45fb-86a0-48520ca3692c",
   "metadata": {},
   "outputs": [
    {
     "name": "stdout",
     "output_type": "stream",
     "text": [
      "OrderedDict([('fc1.weight',\n",
      "              tensor([[-0.2343, -0.2906, -0.2853, -0.2570, -0.1987,  0.2964,  0.0774, -0.0720,\n",
      "         -0.2778,  0.2912],\n",
      "        [ 0.0357, -0.1004,  0.0704,  0.1654,  0.1658,  0.1710,  0.2429,  0.0734,\n",
      "         -0.1867,  0.2500]])),\n",
      "             ('fc1.bias', tensor([ 0.1390, -0.1379])),\n",
      "             ('fc2.weight',\n",
      "              tensor([[ 0.3925, -0.5116],\n",
      "        [ 0.6813,  0.2151]])),\n",
      "             ('fc2.bias', tensor([-0.6237,  0.3767]))])\n"
     ]
    }
   ],
   "source": [
    "pprint(model.state_dict())\n",
    "torch.save(model, 'my_model.pt')"
   ]
  },
  {
   "cell_type": "code",
   "execution_count": 10,
   "id": "b9735485-ad7a-4bca-bb2b-57a6652478c6",
   "metadata": {},
   "outputs": [
    {
     "name": "stdout",
     "output_type": "stream",
     "text": [
      "OrderedDict([('fc1.weight',\n",
      "              tensor([[-0.2343, -0.2906, -0.2853, -0.2570, -0.1987,  0.2964,  0.0774, -0.0720,\n",
      "         -0.2778,  0.2912],\n",
      "        [ 0.0357, -0.1004,  0.0704,  0.1654,  0.1658,  0.1710,  0.2429,  0.0734,\n",
      "         -0.1867,  0.2500]])),\n",
      "             ('fc1.bias', tensor([ 0.1390, -0.1379])),\n",
      "             ('fc2.weight',\n",
      "              tensor([[ 0.3925, -0.5116],\n",
      "        [ 0.6813,  0.2151]])),\n",
      "             ('fc2.bias', tensor([-0.6237,  0.3767]))])\n"
     ]
    }
   ],
   "source": [
    "another_model = torch.load('my_model.pt', weights_only=False)\n",
    "pprint(another_model.state_dict())"
   ]
  }
 ],
 "metadata": {
  "kernelspec": {
   "display_name": "base",
   "language": "python",
   "name": "python3"
  },
  "language_info": {
   "codemirror_mode": {
    "name": "ipython",
    "version": 3
   },
   "file_extension": ".py",
   "mimetype": "text/x-python",
   "name": "python",
   "nbconvert_exporter": "python",
   "pygments_lexer": "ipython3",
   "version": "3.12.7"
  }
 },
 "nbformat": 4,
 "nbformat_minor": 5
}
