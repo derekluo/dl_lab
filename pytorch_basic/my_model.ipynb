{
 "cells": [
  {
   "cell_type": "code",
   "execution_count": 42,
   "id": "b11b6505-95e5-4628-857c-6d979b2d2648",
   "metadata": {},
   "outputs": [],
   "source": [
    "import torch\n",
    "import torch.nn as nn\n",
    " "
   ]
  },
  {
   "cell_type": "code",
   "execution_count": 43,
   "id": "cbdb5d2e-8022-4fea-93ee-6c3b47d9b59f",
   "metadata": {},
   "outputs": [],
   "source": [
    "class MyModel(nn.Module):\n",
    "    def __init__(self):\n",
    "        super().__init__()\n",
    "\n",
    "        # self.fc = nn.Linear(10, 2)\n",
    "        self.fc1 = nn.Linear(10, 2)\n",
    "        self.fc2 = nn.Linear(2, 2)\n",
    "        # self.relu = nn.ReLU()\n",
    "\n",
    "    def forward(self, x):\n",
    "        # return self.fc(x)\n",
    "        return self.fc2(self.fc1(x))\n",
    "        # return self.relu(self.fc(x))\n",
    "\n",
    "model = MyModel()"
   ]
  },
  {
   "cell_type": "code",
   "execution_count": 44,
   "id": "a692f33b-eec4-44df-b197-9d8174f32b70",
   "metadata": {},
   "outputs": [
    {
     "name": "stdout",
     "output_type": "stream",
     "text": [
      "[Parameter containing:\n",
      "tensor([[-0.1074, -0.0641,  0.2792,  0.0647, -0.0187,  0.0471,  0.1114,  0.1267,\n",
      "         -0.0833,  0.2498],\n",
      "        [ 0.2568,  0.0124, -0.1902,  0.0445,  0.2199,  0.2277,  0.0279,  0.2666,\n",
      "          0.1771,  0.0235]], requires_grad=True), Parameter containing:\n",
      "tensor([0.2709, 0.1557], requires_grad=True)]\n",
      "<bound method Module.named_parameters of MyModel(\n",
      "  (fc): Linear(in_features=10, out_features=2, bias=True)\n",
      ")>\n",
      "('x: tensor([[-7.1130e-01, -6.5041e-01,  2.7662e-02,  1.2507e+00,  '\n",
      " '1.2629e+00,\\n'\n",
      " '         -3.1161e-01,  1.4932e+00, -6.7001e-01,  3.7528e-01,  1.4865e-01],\\n'\n",
      " '        [ 1.1315e+00,  7.5842e-01,  5.7324e-04, -5.3048e-01,  5.6895e-01,\\n'\n",
      " '          7.5329e-01, -1.5416e-01, -4.1752e-01,  7.0723e-01, -7.6679e-01],\\n'\n",
      " '        [-2.5659e-01, -5.1865e-01,  3.8017e-01,  2.3618e-01, -8.0920e-01,\\n'\n",
      " '          1.7095e-01,  8.9041e-01, -8.7058e-01, -1.3475e-01,  4.1370e-02]]), '\n",
      " 'torch.Size([3, 10]); Ouput: tensor([[ 0.5265,  0.1552],\\n'\n",
      " '        [-0.2292,  0.7202],\\n'\n",
      " '        [ 0.4867, -0.3475]], grad_fn=<AddmmBackward0>), torch.Size([3, 2])')\n"
     ]
    }
   ],
   "source": [
    "x = torch.randn(3, 10) # 3个样本, 每个样本10个特征\n",
    "output = model(x)\n",
    "\n",
    "print([p for p in model.parameters()])\n",
    "pprint(model.named_parameters)\n",
    "pprint(f\"x: {x}, {x.shape}; Ouput: {output}, {output.shape}\")"
   ]
  },
  {
   "cell_type": "code",
   "execution_count": 45,
   "id": "e03f8cb2-3415-45fb-86a0-48520ca3692c",
   "metadata": {},
   "outputs": [
    {
     "name": "stdout",
     "output_type": "stream",
     "text": [
      "OrderedDict([('fc.weight',\n",
      "              tensor([[-0.1074, -0.0641,  0.2792,  0.0647, -0.0187,  0.0471,  0.1114,  0.1267,\n",
      "         -0.0833,  0.2498],\n",
      "        [ 0.2568,  0.0124, -0.1902,  0.0445,  0.2199,  0.2277,  0.0279,  0.2666,\n",
      "          0.1771,  0.0235]])),\n",
      "             ('fc.bias', tensor([0.2709, 0.1557]))])\n"
     ]
    }
   ],
   "source": [
    "pprint(model.state_dict())\n",
    "torch.save(model, 'my_model.pt')"
   ]
  },
  {
   "cell_type": "code",
   "execution_count": 46,
   "id": "b9735485-ad7a-4bca-bb2b-57a6652478c6",
   "metadata": {},
   "outputs": [
    {
     "name": "stdout",
     "output_type": "stream",
     "text": [
      "OrderedDict([('fc.weight',\n",
      "              tensor([[-0.1074, -0.0641,  0.2792,  0.0647, -0.0187,  0.0471,  0.1114,  0.1267,\n",
      "         -0.0833,  0.2498],\n",
      "        [ 0.2568,  0.0124, -0.1902,  0.0445,  0.2199,  0.2277,  0.0279,  0.2666,\n",
      "          0.1771,  0.0235]])),\n",
      "             ('fc.bias', tensor([0.2709, 0.1557]))])\n"
     ]
    }
   ],
   "source": [
    "another_model = torch.load('my_model.pt', weights_only=False)\n",
    "pprint(another_model.state_dict())"
   ]
  }
 ],
 "metadata": {
  "kernelspec": {
   "display_name": "base",
   "language": "python",
   "name": "python3"
  },
  "language_info": {
   "codemirror_mode": {
    "name": "ipython",
    "version": 3
   },
   "file_extension": ".py",
   "mimetype": "text/x-python",
   "name": "python",
   "nbconvert_exporter": "python",
   "pygments_lexer": "ipython3",
   "version": "3.12.7"
  }
 },
 "nbformat": 4,
 "nbformat_minor": 5
}
