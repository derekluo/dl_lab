{
 "cells": [
  {
   "cell_type": "code",
   "execution_count": 1,
   "id": "b11b6505-95e5-4628-857c-6d979b2d2648",
   "metadata": {},
   "outputs": [
    {
     "data": {
      "text/html": [
       "<style>.output_area { width: 80%; }</style>"
      ],
      "text/plain": [
       "<IPython.core.display.HTML object>"
      ]
     },
     "metadata": {},
     "output_type": "display_data"
    }
   ],
   "source": [
    "import torch\n",
    "import torch.nn as nn\n",
    "from pprint import pprint\n"
   ]
  },
  {
   "cell_type": "code",
   "execution_count": 2,
   "id": "cbdb5d2e-8022-4fea-93ee-6c3b47d9b59f",
   "metadata": {},
   "outputs": [],
   "source": [
    "class MyModel(nn.Module):\n",
    "    def __init__(self):\n",
    "        super().__init__()\n",
    "\n",
    "        # self.fc = nn.Linear(10, 2)\n",
    "        self.fc1 = nn.Linear(10, 2)\n",
    "        nn.init.xavier_uniform_(self.fc1.weight)\n",
    "        nn.init.zeros_(self.fc1.bias)\n",
    "\n",
    "        self.fc2 = nn.Linear(2, 2)\n",
    "        self.relu = nn.ReLU()\n",
    "\n",
    "    def forward(self, x):\n",
    "        return self.fc2(self.relu(self.fc1(x)))\n",
    "\n",
    "model = MyModel()"
   ]
  },
  {
   "cell_type": "code",
   "execution_count": 6,
   "id": "a692f33b-eec4-44df-b197-9d8174f32b70",
   "metadata": {},
   "outputs": [
    {
     "name": "stdout",
     "output_type": "stream",
     "text": [
      "<bound method Module.named_parameters of MyModel(\n",
      "  (fc1): Linear(in_features=10, out_features=2, bias=True)\n",
      "  (fc2): Linear(in_features=2, out_features=2, bias=True)\n",
      "  (relu): ReLU()\n",
      ")>\n"
     ]
    }
   ],
   "source": [
    "\n",
    "x = torch.randn(3, 10) # 3个样本, 每个样本10个特征\n",
    "output = model(x)\n",
    "\n",
    "pprint(model.named_parameters)"
   ]
  },
  {
   "cell_type": "code",
   "execution_count": 4,
   "id": "e03f8cb2-3415-45fb-86a0-48520ca3692c",
   "metadata": {},
   "outputs": [
    {
     "name": "stdout",
     "output_type": "stream",
     "text": [
      "OrderedDict([('fc1.weight',\n",
      "              tensor([[-0.0430,  0.5943,  0.6379,  0.3026, -0.2127,  0.5022, -0.0227, -0.6774,\n",
      "         -0.4930,  0.4653],\n",
      "        [-0.5238, -0.1877, -0.1019, -0.6389,  0.6757,  0.4833, -0.2907,  0.0039,\n",
      "         -0.6728,  0.6907]])),\n",
      "             ('fc1.bias', tensor([0., 0.])),\n",
      "             ('fc2.weight',\n",
      "              tensor([[ 0.2009, -0.6346],\n",
      "        [-0.3098,  0.1237]])),\n",
      "             ('fc2.bias', tensor([-0.6689, -0.3971]))])\n"
     ]
    }
   ],
   "source": [
    "pprint(model.state_dict())\n",
    "torch.save(model, 'my_model.pt')"
   ]
  },
  {
   "cell_type": "code",
   "execution_count": 5,
   "id": "b9735485-ad7a-4bca-bb2b-57a6652478c6",
   "metadata": {},
   "outputs": [
    {
     "name": "stdout",
     "output_type": "stream",
     "text": [
      "OrderedDict([('fc1.weight',\n",
      "              tensor([[-0.0430,  0.5943,  0.6379,  0.3026, -0.2127,  0.5022, -0.0227, -0.6774,\n",
      "         -0.4930,  0.4653],\n",
      "        [-0.5238, -0.1877, -0.1019, -0.6389,  0.6757,  0.4833, -0.2907,  0.0039,\n",
      "         -0.6728,  0.6907]])),\n",
      "             ('fc1.bias', tensor([0., 0.])),\n",
      "             ('fc2.weight',\n",
      "              tensor([[ 0.2009, -0.6346],\n",
      "        [-0.3098,  0.1237]])),\n",
      "             ('fc2.bias', tensor([-0.6689, -0.3971]))])\n"
     ]
    }
   ],
   "source": [
    "another_model = torch.load('my_model.pt', weights_only=False)\n",
    "pprint(another_model.state_dict())"
   ]
  }
 ],
 "metadata": {
  "kernelspec": {
   "display_name": "Python 3 (ipykernel)",
   "language": "python",
   "name": "python3"
  },
  "language_info": {
   "codemirror_mode": {
    "name": "ipython",
    "version": 3
   },
   "file_extension": ".py",
   "mimetype": "text/x-python",
   "name": "python",
   "nbconvert_exporter": "python",
   "pygments_lexer": "ipython3",
   "version": "3.12.7"
  }
 },
 "nbformat": 4,
 "nbformat_minor": 5
}
