{
 "cells": [
  {
   "cell_type": "code",
   "execution_count": 12,
   "id": "b11b6505-95e5-4628-857c-6d979b2d2648",
   "metadata": {},
   "outputs": [],
   "source": [
    "import torch\n",
    "import torch.nn as nn\n",
    "from pprint import pprint\n"
   ]
  },
  {
   "cell_type": "code",
   "execution_count": 13,
   "id": "cbdb5d2e-8022-4fea-93ee-6c3b47d9b59f",
   "metadata": {},
   "outputs": [],
   "source": [
    "class MyModel(nn.Module):\n",
    "    def __init__(self):\n",
    "        super().__init__()\n",
    "\n",
    "        # self.fc = nn.Linear(10, 2)\n",
    "        self.fc1 = nn.Linear(10, 2)\n",
    "        nn.init.xavier_uniform_(self.fc1.weight)\n",
    "        nn.init.zeros_(self.fc1.bias)\n",
    "\n",
    "        self.fc2 = nn.Linear(2, 2)\n",
    "        self.relu = nn.ReLU()\n",
    "\n",
    "        self.net = nn.Sequential(self.fc1, self.relu, self.fc2)\n",
    "\n",
    "    def forward(self, x):\n",
    "        # return self.fc2(self.relu(self.fc1(x)))\n",
    "        return self.net(x)\n",
    "\n",
    "model = MyModel()"
   ]
  },
  {
   "cell_type": "code",
   "execution_count": 14,
   "id": "a692f33b-eec4-44df-b197-9d8174f32b70",
   "metadata": {},
   "outputs": [
    {
     "name": "stdout",
     "output_type": "stream",
     "text": [
      "<bound method Module.named_parameters of MyModel(\n",
      "  (fc1): Linear(in_features=10, out_features=2, bias=True)\n",
      "  (fc2): Linear(in_features=2, out_features=2, bias=True)\n",
      "  (relu): ReLU()\n",
      "  (net): Sequential(\n",
      "    (0): Linear(in_features=10, out_features=2, bias=True)\n",
      "    (1): ReLU()\n",
      "    (2): Linear(in_features=2, out_features=2, bias=True)\n",
      "  )\n",
      ")>\n"
     ]
    }
   ],
   "source": [
    "\n",
    "x = torch.randn(3, 10) # 3个样本, 每个样本10个特征\n",
    "output = model(x)\n",
    "\n",
    "pprint(model.named_parameters)"
   ]
  },
  {
   "cell_type": "code",
   "execution_count": 15,
   "id": "e03f8cb2-3415-45fb-86a0-48520ca3692c",
   "metadata": {},
   "outputs": [
    {
     "name": "stdout",
     "output_type": "stream",
     "text": [
      "OrderedDict([('fc1.weight',\n",
      "              tensor([[-0.4222, -0.0734,  0.5706,  0.6512, -0.5544,  0.5636, -0.0607, -0.1926,\n",
      "          0.4247, -0.4684],\n",
      "        [-0.1239,  0.0356,  0.6194,  0.6466, -0.4727, -0.1065, -0.3358,  0.4134,\n",
      "          0.1044,  0.3194]])),\n",
      "             ('fc1.bias', tensor([0., 0.])),\n",
      "             ('fc2.weight',\n",
      "              tensor([[-0.2419,  0.5291],\n",
      "        [ 0.7070,  0.4262]])),\n",
      "             ('fc2.bias', tensor([ 0.5257, -0.1164])),\n",
      "             ('net.0.weight',\n",
      "              tensor([[-0.4222, -0.0734,  0.5706,  0.6512, -0.5544,  0.5636, -0.0607, -0.1926,\n",
      "          0.4247, -0.4684],\n",
      "        [-0.1239,  0.0356,  0.6194,  0.6466, -0.4727, -0.1065, -0.3358,  0.4134,\n",
      "          0.1044,  0.3194]])),\n",
      "             ('net.0.bias', tensor([0., 0.])),\n",
      "             ('net.2.weight',\n",
      "              tensor([[-0.2419,  0.5291],\n",
      "        [ 0.7070,  0.4262]])),\n",
      "             ('net.2.bias', tensor([ 0.5257, -0.1164]))])\n"
     ]
    }
   ],
   "source": [
    "pprint(model.state_dict())\n",
    "torch.save(model, 'my_model.pt')"
   ]
  },
  {
   "cell_type": "code",
   "execution_count": 16,
   "id": "b9735485-ad7a-4bca-bb2b-57a6652478c6",
   "metadata": {},
   "outputs": [
    {
     "name": "stdout",
     "output_type": "stream",
     "text": [
      "OrderedDict([('fc1.weight',\n",
      "              tensor([[-0.4222, -0.0734,  0.5706,  0.6512, -0.5544,  0.5636, -0.0607, -0.1926,\n",
      "          0.4247, -0.4684],\n",
      "        [-0.1239,  0.0356,  0.6194,  0.6466, -0.4727, -0.1065, -0.3358,  0.4134,\n",
      "          0.1044,  0.3194]])),\n",
      "             ('fc1.bias', tensor([0., 0.])),\n",
      "             ('fc2.weight',\n",
      "              tensor([[-0.2419,  0.5291],\n",
      "        [ 0.7070,  0.4262]])),\n",
      "             ('fc2.bias', tensor([ 0.5257, -0.1164])),\n",
      "             ('net.0.weight',\n",
      "              tensor([[-0.4222, -0.0734,  0.5706,  0.6512, -0.5544,  0.5636, -0.0607, -0.1926,\n",
      "          0.4247, -0.4684],\n",
      "        [-0.1239,  0.0356,  0.6194,  0.6466, -0.4727, -0.1065, -0.3358,  0.4134,\n",
      "          0.1044,  0.3194]])),\n",
      "             ('net.0.bias', tensor([0., 0.])),\n",
      "             ('net.2.weight',\n",
      "              tensor([[-0.2419,  0.5291],\n",
      "        [ 0.7070,  0.4262]])),\n",
      "             ('net.2.bias', tensor([ 0.5257, -0.1164]))])\n"
     ]
    }
   ],
   "source": [
    "another_model = torch.load('my_model.pt', weights_only=False)\n",
    "pprint(another_model.state_dict())"
   ]
  }
 ],
 "metadata": {
  "kernelspec": {
   "display_name": "base",
   "language": "python",
   "name": "python3"
  },
  "language_info": {
   "codemirror_mode": {
    "name": "ipython",
    "version": 3
   },
   "file_extension": ".py",
   "mimetype": "text/x-python",
   "name": "python",
   "nbconvert_exporter": "python",
   "pygments_lexer": "ipython3",
   "version": "3.12.7"
  }
 },
 "nbformat": 4,
 "nbformat_minor": 5
}
