{
  "cells": [
    {
      "cell_type": "markdown",
      "metadata": {
        "id": "FDDobeCrM_Ol"
      },
      "source": [
        "# PyTorch Basics - Complete Introduction\n",
        "\n",
        "This notebook provides a comprehensive introduction to PyTorch fundamentals. We'll cover:\n",
        "\n",
        "1. **Tensors** - The fundamental data structure\n",
        "2. **Autograd** - Automatic differentiation\n",
        "3. **Neural Networks** - Building blocks\n",
        "4. **Loss Functions** - Measuring performance\n",
        "5. **Optimizers** - Parameter updates\n",
        "6. **Training Loop** - Putting it all together\n",
        "7. **Data Loading** - Handling datasets\n",
        "8. **Device Management** - CPU vs GPU\n",
        "\n",
        "Let's get started!\n"
      ]
    },
    {
      "cell_type": "code",
      "execution_count": 14,
      "metadata": {
        "colab": {
          "base_uri": "https://localhost:8080/"
        },
        "id": "lq9FD7PzM_Oo",
        "outputId": "dc4125cb-9e79-4749-d9ae-f1309f6d04c6"
      },
      "outputs": [
        {
          "output_type": "stream",
          "name": "stdout",
          "text": [
            "PyTorch version: 2.8.0+cu126\n",
            "CUDA available: False\n"
          ]
        }
      ],
      "source": [
        "import torch\n",
        "import torch.nn as nn\n",
        "import torch.optim as optim\n",
        "import torch.nn.functional as F\n",
        "from torch.utils.data import DataLoader, TensorDataset, Dataset, random_split\n",
        "import numpy as np\n",
        "import matplotlib.pyplot as plt\n",
        "from pprint import pprint\n",
        "\n",
        "print(f\"PyTorch version: {torch.__version__}\")\n",
        "print(f\"CUDA available: {torch.cuda.is_available()}\")\n",
        "if torch.cuda.is_available():\n",
        "    print(f\"CUDA device: {torch.cuda.get_device_name(0)}\")\n"
      ]
    },
    {
      "cell_type": "markdown",
      "metadata": {
        "id": "uXKPY2rtM_Op"
      },
      "source": [
        "## 1. Tensors - The Foundation of PyTorch\n",
        "\n",
        "Tensors are the fundamental data structure in PyTorch, similar to NumPy arrays but with GPU acceleration and automatic differentiation capabilities.\n"
      ]
    },
    {
      "cell_type": "code",
      "execution_count": 15,
      "metadata": {
        "colab": {
          "base_uri": "https://localhost:8080/"
        },
        "id": "rbM9QNhLM_Op",
        "outputId": "bec5c1ba-3fec-441b-9fa3-aa9a790a057c"
      },
      "outputs": [
        {
          "output_type": "stream",
          "name": "stdout",
          "text": [
            "=== Creating Tensors ===\n",
            "From list: tensor([1, 2, 3, 4])\n",
            "Random 2x3:\n",
            "tensor([[-0.4935, -0.3661, -0.7249],\n",
            "        [-0.5507,  0.2415,  0.5029]])\n",
            "Zeros 3x4:\n",
            "tensor([[0., 0., 0., 0.],\n",
            "        [0., 0., 0., 0.],\n",
            "        [0., 0., 0., 0.]])\n",
            "Ones 2x2:\n",
            "tensor([[1., 1.],\n",
            "        [1., 1.]])\n",
            "From NumPy: tensor([1, 2, 3])\n",
            "\n",
            "Tensor shape: torch.Size([2, 3])\n",
            "Tensor dtype: torch.float32\n",
            "Tensor device: cpu\n"
          ]
        }
      ],
      "source": [
        "# Creating tensors\n",
        "print(\"=== Creating Tensors ===\")\n",
        "\n",
        "# From Python list\n",
        "x1 = torch.tensor([1, 2, 3, 4])\n",
        "print(f\"From list: {x1}\")\n",
        "\n",
        "# Random tensors\n",
        "x2 = torch.randn(2, 3)  # 2x3 tensor with random values from normal distribution\n",
        "print(f\"Random 2x3:\\n{x2}\")\n",
        "\n",
        "# Zeros and ones\n",
        "x3 = torch.zeros(3, 4)\n",
        "x4 = torch.ones(2, 2)\n",
        "print(f\"Zeros 3x4:\\n{x3}\")\n",
        "print(f\"Ones 2x2:\\n{x4}\")\n",
        "\n",
        "# From NumPy\n",
        "np_array = np.array([1, 2, 3])\n",
        "x5 = torch.from_numpy(np_array)\n",
        "print(f\"From NumPy: {x5}\")\n",
        "\n",
        "# Tensor info\n",
        "print(f\"\\nTensor shape: {x2.shape}\")\n",
        "print(f\"Tensor dtype: {x2.dtype}\")\n",
        "print(f\"Tensor device: {x2.device}\")\n"
      ]
    },
    {
      "cell_type": "code",
      "execution_count": 16,
      "metadata": {
        "colab": {
          "base_uri": "https://localhost:8080/"
        },
        "id": "GwoMEgOaM_Op",
        "outputId": "e7b87941-d0cc-4bc4-d93a-ab91ca491116"
      },
      "outputs": [
        {
          "output_type": "stream",
          "name": "stdout",
          "text": [
            "=== Tensor Operations ===\n",
            "Tensor a:\n",
            "tensor([[1., 2.],\n",
            "        [3., 4.]])\n",
            "Tensor b:\n",
            "tensor([[5., 6.],\n",
            "        [7., 8.]])\n",
            "Addition: a + b =\n",
            "tensor([[ 6.,  8.],\n",
            "        [10., 12.]])\n",
            "Element-wise multiplication: a * b =\n",
            "tensor([[ 5., 12.],\n",
            "        [21., 32.]])\n",
            "Matrix multiplication: a @ b =\n",
            "tensor([[19., 22.],\n",
            "        [43., 50.]])\n",
            "\n",
            "Original shape: torch.Size([4, 3])\n",
            "Reshaped to 2x6: torch.Size([2, 6])\n",
            "Reshaped to 12x1: torch.Size([12, 1])\n",
            "\n",
            "Slicing examples:\n",
            "c[0, :] = tensor([ 1.8075,  0.7827, -0.0415])\n",
            "c[:, 0] = tensor([1.8075, 1.2276, 0.6124, 1.7493])\n"
          ]
        }
      ],
      "source": [
        "# Tensor operations\n",
        "print(\"=== Tensor Operations ===\")\n",
        "\n",
        "a = torch.tensor([[1, 2], [3, 4]], dtype=torch.float32)\n",
        "b = torch.tensor([[5, 6], [7, 8]], dtype=torch.float32)\n",
        "\n",
        "print(f\"Tensor a:\\n{a}\")\n",
        "print(f\"Tensor b:\\n{b}\")\n",
        "\n",
        "# Element-wise operations\n",
        "print(f\"Addition: a + b =\\n{a + b}\")\n",
        "print(f\"Element-wise multiplication: a * b =\\n{a * b}\")\n",
        "\n",
        "# Matrix multiplication\n",
        "print(f\"Matrix multiplication: a @ b =\\n{a @ b}\")\n",
        "\n",
        "# Reshaping\n",
        "c = torch.randn(4, 3)\n",
        "print(f\"\\nOriginal shape: {c.shape}\")\n",
        "print(f\"Reshaped to 2x6: {c.view(2, 6).shape}\")\n",
        "print(f\"Reshaped to 12x1: {c.view(-1, 1).shape}\")\n",
        "\n",
        "# Indexing and slicing\n",
        "print(f\"\\nSlicing examples:\")\n",
        "print(f\"c[0, :] = {c[0, :]}\")  # First row\n",
        "print(f\"c[:, 0] = {c[:, 0]}\")  # First column\n"
      ]
    },
    {
      "cell_type": "markdown",
      "metadata": {
        "id": "AmZAopn6M_Oq"
      },
      "source": [
        "## 2. Autograd - Automatic Differentiation\n",
        "\n",
        "PyTorch's `autograd` system automatically computes gradients for tensors with `requires_grad=True`. This is essential for training neural networks.\n",
        "<sup>2</sup><sup>2</sup><sup>2</sup><sup>2</sup><sup>3</sup><sup>3</sup>"
      ]
    },
    {
      "cell_type": "code",
      "execution_count": 17,
      "metadata": {
        "colab": {
          "base_uri": "https://localhost:8080/"
        },
        "id": "g3m7OfqPM_Oq",
        "outputId": "0c2b37c2-9b60-407d-91de-18c21d4f3713"
      },
      "outputs": [
        {
          "output_type": "stream",
          "name": "stdout",
          "text": [
            "=== Autograd Basics ===\n",
            "x = tensor([2.], requires_grad=True)\n",
            "x.requires_grad = True\n",
            "y = x² + 3x + 1 = tensor([11.], grad_fn=<AddBackward0>)\n",
            "dy/dx = tensor([7.])\n",
            "\n",
            "For z = x1² + x2³ with x1=1, x2=2:\n",
            "dz/dx1 = tensor([2.])\n",
            "dz/dx2 = tensor([12.])\n"
          ]
        }
      ],
      "source": [
        "print(\"=== Autograd Basics ===\")\n",
        "\n",
        "# Create tensor with gradient tracking\n",
        "x = torch.tensor([2.0], requires_grad=True)\n",
        "print(f\"x = {x}\")\n",
        "print(f\"x.requires_grad = {x.requires_grad}\")\n",
        "\n",
        "# Define a function y = x^2 + 3x + 1\n",
        "y = x**2 + 3*x + 1\n",
        "print(f\"y = x² + 3x + 1 = {y}\")\n",
        "\n",
        "# Compute gradient dy/dx\n",
        "y.backward()\n",
        "print(f\"dy/dx = {x.grad}\")  # Should be 2*x + 3 = 2*2 + 3 = 7\n",
        "\n",
        "# For multiple variables\n",
        "x1 = torch.tensor([1.0], requires_grad=True)\n",
        "x2 = torch.tensor([2.0], requires_grad=True)\n",
        "z = x1**2 + x2**3  # z = x1² + x2³\n",
        "z.backward()\n",
        "print(f\"\\nFor z = x1² + x2³ with x1=1, x2=2:\")\n",
        "print(f\"dz/dx1 = {x1.grad}\")  # Should be 2*x1 = 2\n",
        "print(f\"dz/dx2 = {x2.grad}\")  # Should be 3*x2² = 12\n"
      ]
    },
    {
      "cell_type": "markdown",
      "metadata": {
        "id": "DCxh3P7GM_Oq"
      },
      "source": [
        "## 3. Neural Networks with nn.Module\n",
        "\n",
        "PyTorch provides `nn.Module` as the base class for all neural network modules. Let's build different types of layers and networks.\n"
      ]
    },
    {
      "cell_type": "code",
      "execution_count": 18,
      "metadata": {
        "colab": {
          "base_uri": "https://localhost:8080/"
        },
        "id": "ZYnQ7nK_M_Or",
        "outputId": "b39d95a3-4077-4392-97ac-25d77f50e672"
      },
      "outputs": [
        {
          "output_type": "stream",
          "name": "stdout",
          "text": [
            "=== Basic Neural Network Layers ===\n",
            "Linear layer: Linear(in_features=10, out_features=5, bias=True)\n",
            "Weight shape: torch.Size([5, 10])\n",
            "Bias shape: torch.Size([5])\n",
            "Input shape: torch.Size([3, 10])\n",
            "Output shape: torch.Size([3, 5])\n",
            "\n",
            "=== Activation Functions ===\n",
            "Input: tensor([-2., -1.,  0.,  1.,  2.])\n",
            "ReLU: tensor([0., 0., 0., 1., 2.])\n",
            "Sigmoid: tensor([0.1192, 0.2689, 0.5000, 0.7311, 0.8808])\n",
            "Tanh: tensor([-0.9640, -0.7616,  0.0000,  0.7616,  0.9640])\n",
            "Softmax: tensor([0.0117, 0.0317, 0.0861, 0.2341, 0.6364])\n"
          ]
        }
      ],
      "source": [
        "print(\"=== Basic Neural Network Layers ===\")\n",
        "\n",
        "# Linear (fully connected) layer\n",
        "linear = nn.Linear(in_features=10, out_features=5)\n",
        "print(f\"Linear layer: {linear}\")\n",
        "print(f\"Weight shape: {linear.weight.shape}\")\n",
        "print(f\"Bias shape: {linear.bias.shape}\")\n",
        "\n",
        "# Test with random input\n",
        "x = torch.randn(3, 10)  # batch_size=3, input_size=10\n",
        "output = linear(x)\n",
        "print(f\"Input shape: {x.shape}\")\n",
        "print(f\"Output shape: {output.shape}\")\n",
        "\n",
        "# Activation functions\n",
        "print(\"\\n=== Activation Functions ===\")\n",
        "x_demo = torch.tensor([-2, -1, 0, 1, 2], dtype=torch.float32)\n",
        "print(f\"Input: {x_demo}\")\n",
        "print(f\"ReLU: {F.relu(x_demo)}\")\n",
        "print(f\"Sigmoid: {torch.sigmoid(x_demo)}\")\n",
        "print(f\"Tanh: {torch.tanh(x_demo)}\")\n",
        "print(f\"Softmax: {F.softmax(x_demo, dim=0)}\")\n"
      ]
    },
    {
      "cell_type": "code",
      "execution_count": 19,
      "metadata": {
        "colab": {
          "base_uri": "https://localhost:8080/"
        },
        "id": "e5_xHqmSM_Or",
        "outputId": "84ced4af-c82f-43ba-82ee-59f0e738662c"
      },
      "outputs": [
        {
          "output_type": "stream",
          "name": "stdout",
          "text": [
            "Model architecture:\n",
            "SimpleNet(\n",
            "  (fc1): Linear(in_features=20, out_features=64, bias=True)\n",
            "  (fc2): Linear(in_features=64, out_features=64, bias=True)\n",
            "  (fc3): Linear(in_features=64, out_features=10, bias=True)\n",
            "  (dropout): Dropout(p=0.2, inplace=False)\n",
            ")\n",
            "\n",
            "Total parameters: 6154\n",
            "Trainable parameters: 6154\n",
            "\n",
            "Input shape: torch.Size([5, 20])\n",
            "Output shape: torch.Size([5, 10])\n",
            "\n",
            "Sequential model:\n",
            "Sequential(\n",
            "  (0): Linear(in_features=20, out_features=64, bias=True)\n",
            "  (1): ReLU()\n",
            "  (2): Dropout(p=0.2, inplace=False)\n",
            "  (3): Linear(in_features=64, out_features=32, bias=True)\n",
            "  (4): ReLU()\n",
            "  (5): Linear(in_features=32, out_features=10, bias=True)\n",
            ")\n"
          ]
        }
      ],
      "source": [
        "# Custom neural network\n",
        "class SimpleNet(nn.Module):\n",
        "    def __init__(self, input_size, hidden_size, output_size):\n",
        "        super(SimpleNet, self).__init__()\n",
        "        self.fc1 = nn.Linear(input_size, hidden_size)\n",
        "        self.fc2 = nn.Linear(hidden_size, hidden_size)\n",
        "        self.fc3 = nn.Linear(hidden_size, output_size)\n",
        "        self.dropout = nn.Dropout(0.2)\n",
        "\n",
        "    def forward(self, x):\n",
        "        x = F.relu(self.fc1(x))\n",
        "        x = self.dropout(x)\n",
        "        x = F.relu(self.fc2(x))\n",
        "        x = self.fc3(x)  # No activation on output layer\n",
        "        return x\n",
        "\n",
        "# Create and test the model\n",
        "model = SimpleNet(input_size=20, hidden_size=64, output_size=10)\n",
        "print(f\"Model architecture:\\n{model}\")\n",
        "\n",
        "# Count parameters\n",
        "total_params = sum(p.numel() for p in model.parameters())\n",
        "trainable_params = sum(p.numel() for p in model.parameters() if p.requires_grad)\n",
        "print(f\"\\nTotal parameters: {total_params}\")\n",
        "print(f\"Trainable parameters: {trainable_params}\")\n",
        "\n",
        "# Test forward pass\n",
        "batch_size = 5\n",
        "x = torch.randn(batch_size, 20)\n",
        "output = model(x)\n",
        "print(f\"\\nInput shape: {x.shape}\")\n",
        "print(f\"Output shape: {output.shape}\")\n",
        "\n",
        "# Using nn.Sequential (alternative approach)\n",
        "sequential_model = nn.Sequential(\n",
        "    nn.Linear(20, 64),\n",
        "    nn.ReLU(),\n",
        "    nn.Dropout(0.2),\n",
        "    nn.Linear(64, 32),\n",
        "    nn.ReLU(),\n",
        "    nn.Linear(32, 10)\n",
        ")\n",
        "print(f\"\\nSequential model:\\n{sequential_model}\")\n"
      ]
    },
    {
      "cell_type": "markdown",
      "metadata": {
        "id": "sTkeWcBbM_Or"
      },
      "source": [
        "## 4. Loss Functions\n",
        "\n",
        "Loss functions measure how well our model performs. Different tasks require different loss functions.\n"
      ]
    },
    {
      "cell_type": "code",
      "execution_count": 20,
      "metadata": {
        "colab": {
          "base_uri": "https://localhost:8080/"
        },
        "id": "5KNMcJrvM_Or",
        "outputId": "1ad92d38-a3e3-4359-84fe-256983ded500"
      },
      "outputs": [
        {
          "output_type": "stream",
          "name": "stdout",
          "text": [
            "=== Common Loss Functions ===\n",
            "MSE Loss: 0.1100\n",
            "Manual MSE: 0.1100\n",
            "\n",
            "Cross Entropy Loss: 0.3505\n",
            "Probabilities:\n",
            "tensor([[0.6590, 0.2424, 0.0986],\n",
            "        [0.1607, 0.7202, 0.1191],\n",
            "        [0.1643, 0.0996, 0.7361]])\n",
            "Predicted classes: tensor([0, 1, 2])\n",
            "True classes: tensor([0, 1, 2])\n",
            "\n",
            "Binary Cross Entropy Loss: 0.3695\n"
          ]
        }
      ],
      "source": [
        "print(\"=== Common Loss Functions ===\")\n",
        "\n",
        "# For regression: Mean Squared Error (MSE)\n",
        "predictions = torch.tensor([1.0, 2.0, 3.0])\n",
        "targets = torch.tensor([1.5, 1.8, 3.2])\n",
        "\n",
        "mse_loss = nn.MSELoss()\n",
        "loss_mse = mse_loss(predictions, targets)\n",
        "print(f\"MSE Loss: {loss_mse.item():.4f}\")\n",
        "\n",
        "# Manual MSE calculation\n",
        "manual_mse = ((predictions - targets)**2).mean()\n",
        "print(f\"Manual MSE: {manual_mse.item():.4f}\")\n",
        "\n",
        "# For classification: Cross Entropy Loss\n",
        "# Logits (raw model outputs)\n",
        "logits = torch.tensor([[2.0, 1.0, 0.1],\n",
        "                       [0.5, 2.0, 0.2],\n",
        "                       [1.0, 0.5, 2.5]])\n",
        "# True class indices\n",
        "class_targets = torch.tensor([0, 1, 2])\n",
        "\n",
        "ce_loss = nn.CrossEntropyLoss()\n",
        "loss_ce = ce_loss(logits, class_targets)\n",
        "print(f\"\\nCross Entropy Loss: {loss_ce.item():.4f}\")\n",
        "\n",
        "# Show what happens inside CrossEntropy\n",
        "probabilities = F.softmax(logits, dim=1)\n",
        "print(f\"Probabilities:\\n{probabilities}\")\n",
        "print(f\"Predicted classes: {torch.argmax(logits, dim=1)}\")\n",
        "print(f\"True classes: {class_targets}\")\n",
        "\n",
        "# For binary classification: Binary Cross Entropy\n",
        "binary_logits = torch.tensor([0.8, -0.5, 1.2])\n",
        "binary_targets = torch.tensor([1.0, 0.0, 1.0])\n",
        "\n",
        "bce_loss = nn.BCEWithLogitsLoss()\n",
        "loss_bce = bce_loss(binary_logits, binary_targets)\n",
        "print(f\"\\nBinary Cross Entropy Loss: {loss_bce.item():.4f}\")\n"
      ]
    },
    {
      "cell_type": "markdown",
      "metadata": {
        "id": "DTWGJb3OM_Os"
      },
      "source": [
        "## 5. Complete Training Example\n",
        "\n",
        "Let's put everything together and create a complete training example with synthetic data.\n"
      ]
    },
    {
      "cell_type": "code",
      "execution_count": 21,
      "metadata": {
        "colab": {
          "base_uri": "https://localhost:8080/"
        },
        "id": "a09lq050M_Os",
        "outputId": "856d28a7-0a9c-4dec-f7b6-85368a2be340"
      },
      "outputs": [
        {
          "output_type": "stream",
          "name": "stdout",
          "text": [
            "=== Creating Synthetic Dataset ===\n",
            "Dataset shape: torch.Size([1000, 20])\n",
            "Targets shape: torch.Size([1000])\n",
            "Class distribution: tensor([345, 334, 321])\n",
            "Train set: torch.Size([800, 20]), torch.Size([800])\n",
            "Test set: torch.Size([200, 20]), torch.Size([200])\n"
          ]
        }
      ],
      "source": [
        "print(\"=== Creating Synthetic Dataset ===\")\n",
        "\n",
        "# Generate synthetic classification data\n",
        "torch.manual_seed(42)  # For reproducibility\n",
        "n_samples = 1000\n",
        "n_features = 20\n",
        "n_classes = 3\n",
        "\n",
        "# Create random data with some pattern\n",
        "X = torch.randn(n_samples, n_features)\n",
        "# Create targets with a simple pattern\n",
        "weights = torch.randn(n_features, n_classes)\n",
        "logits = X @ weights + torch.randn(n_samples, n_classes) * 0.1\n",
        "y = torch.argmax(logits, dim=1)\n",
        "\n",
        "print(f\"Dataset shape: {X.shape}\")\n",
        "print(f\"Targets shape: {y.shape}\")\n",
        "print(f\"Class distribution: {torch.bincount(y)}\")\n",
        "\n",
        "# Split into train and test\n",
        "split_idx = int(0.8 * n_samples)\n",
        "X_train, X_test = X[:split_idx], X[split_idx:]\n",
        "y_train, y_test = y[:split_idx], y[split_idx:]\n",
        "\n",
        "print(f\"Train set: {X_train.shape}, {y_train.shape}\")\n",
        "print(f\"Test set: {X_test.shape}, {y_test.shape}\")\n"
      ]
    },
    {
      "cell_type": "code",
      "execution_count": 22,
      "metadata": {
        "colab": {
          "base_uri": "https://localhost:8080/"
        },
        "id": "AdIyrymqM_Os",
        "outputId": "8ae2ddb5-9355-44c0-c1fb-a55ad089cbd0"
      },
      "outputs": [
        {
          "output_type": "stream",
          "name": "stdout",
          "text": [
            "=== Training a Neural Network ===\n",
            "Epoch [10/50], Loss: 0.1719, Accuracy: 0.9350\n",
            "Epoch [20/50], Loss: 0.0867, Accuracy: 0.9675\n",
            "Epoch [30/50], Loss: 0.0654, Accuracy: 0.9725\n",
            "Epoch [40/50], Loss: 0.0431, Accuracy: 0.9888\n",
            "Epoch [50/50], Loss: 0.0295, Accuracy: 0.9900\n",
            "Training completed!\n"
          ]
        }
      ],
      "source": [
        "print(\"=== Training a Neural Network ===\")\n",
        "\n",
        "# Initialize model, loss, and optimizer\n",
        "model = SimpleNet(n_features, 64, n_classes)\n",
        "criterion = nn.CrossEntropyLoss()\n",
        "optimizer = optim.Adam(model.parameters(), lr=0.001)\n",
        "\n",
        "# Training parameters\n",
        "n_epochs = 50\n",
        "batch_size = 32\n",
        "\n",
        "# Create data loader\n",
        "train_dataset = TensorDataset(X_train, y_train)\n",
        "train_loader = DataLoader(train_dataset, batch_size=batch_size, shuffle=True)\n",
        "\n",
        "# Training loop\n",
        "train_losses = []\n",
        "train_accuracies = []\n",
        "\n",
        "model.train()  # Set model to training mode\n",
        "\n",
        "for epoch in range(n_epochs):\n",
        "    epoch_loss = 0.0\n",
        "    correct_predictions = 0\n",
        "    total_predictions = 0\n",
        "\n",
        "    for batch_X, batch_y in train_loader:\n",
        "        # Forward pass\n",
        "        outputs = model(batch_X)\n",
        "        loss = criterion(outputs, batch_y)\n",
        "\n",
        "        # Backward pass and optimization\n",
        "        optimizer.zero_grad()  # Clear previous gradients\n",
        "        loss.backward()        # Compute gradients\n",
        "        optimizer.step()       # Update parameters\n",
        "\n",
        "        # Track statistics\n",
        "        epoch_loss += loss.item()\n",
        "        _, predicted = torch.max(outputs.data, 1)\n",
        "        total_predictions += batch_y.size(0)\n",
        "        correct_predictions += (predicted == batch_y).sum().item()\n",
        "\n",
        "    # Calculate average loss and accuracy\n",
        "    avg_loss = epoch_loss / len(train_loader)\n",
        "    accuracy = correct_predictions / total_predictions\n",
        "\n",
        "    train_losses.append(avg_loss)\n",
        "    train_accuracies.append(accuracy)\n",
        "\n",
        "    if (epoch + 1) % 10 == 0:\n",
        "        print(f'Epoch [{epoch+1}/{n_epochs}], Loss: {avg_loss:.4f}, Accuracy: {accuracy:.4f}')\n",
        "\n",
        "print(\"Training completed!\")\n"
      ]
    },
    {
      "cell_type": "code",
      "execution_count": 23,
      "metadata": {
        "colab": {
          "base_uri": "https://localhost:8080/",
          "height": 546
        },
        "id": "E5ouawbEM_Os",
        "outputId": "1da2fe7b-fd5f-4b02-fe9a-3f4215946a69"
      },
      "outputs": [
        {
          "output_type": "stream",
          "name": "stdout",
          "text": [
            "=== Model Evaluation ===\n",
            "Test Loss: 0.1995\n",
            "Test Accuracy: 0.9150\n"
          ]
        },
        {
          "output_type": "display_data",
          "data": {
            "text/plain": [
              "<Figure size 1200x400 with 2 Axes>"
            ],
            "image/png": "[encoded data removed]"
          },
          "metadata": {}
        },
        {
          "output_type": "stream",
          "name": "stdout",
          "text": [
            "\n",
            "Confusion Matrix:\n",
            "tensor([[52,  7,  0],\n",
            "        [ 0, 74,  0],\n",
            "        [ 5,  5, 57]], dtype=torch.int32)\n"
          ]
        }
      ],
      "source": [
        "print(\"=== Model Evaluation ===\")\n",
        "\n",
        "# Evaluate on test set\n",
        "model.eval()  # Set model to evaluation mode\n",
        "\n",
        "with torch.no_grad():  # Disable gradient computation\n",
        "    test_outputs = model(X_test)\n",
        "    test_loss = criterion(test_outputs, y_test)\n",
        "    _, test_predicted = torch.max(test_outputs.data, 1)\n",
        "    test_accuracy = (test_predicted == y_test).sum().item() / y_test.size(0)\n",
        "\n",
        "print(f'Test Loss: {test_loss.item():.4f}')\n",
        "print(f'Test Accuracy: {test_accuracy:.4f}')\n",
        "\n",
        "# Plot training progress\n",
        "plt.figure(figsize=(12, 4))\n",
        "\n",
        "plt.subplot(1, 2, 1)\n",
        "plt.plot(train_losses)\n",
        "plt.title('Training Loss')\n",
        "plt.xlabel('Epoch')\n",
        "plt.ylabel('Loss')\n",
        "plt.grid(True)\n",
        "\n",
        "plt.subplot(1, 2, 2)\n",
        "plt.plot(train_accuracies)\n",
        "plt.title('Training Accuracy')\n",
        "plt.xlabel('Epoch')\n",
        "plt.ylabel('Accuracy')\n",
        "plt.grid(True)\n",
        "\n",
        "plt.tight_layout()\n",
        "plt.show()\n",
        "\n",
        "# Simple confusion matrix\n",
        "confusion_matrix = torch.zeros(n_classes, n_classes)\n",
        "with torch.no_grad():\n",
        "    for actual, predicted in zip(y_test, test_predicted):\n",
        "        confusion_matrix[actual][predicted] += 1\n",
        "\n",
        "print(f\"\\nConfusion Matrix:\")\n",
        "print(confusion_matrix.int())\n"
      ]
    },
    {
      "cell_type": "markdown",
      "metadata": {
        "id": "BeS_EelqM_Os"
      },
      "source": [
        "## 6. Saving and Loading Models\n",
        "\n",
        "Learn different ways to save and load PyTorch models for deployment and resuming training.\n"
      ]
    },
    {
      "cell_type": "code",
      "execution_count": 24,
      "metadata": {
        "colab": {
          "base_uri": "https://localhost:8080/"
        },
        "collapsed": true,
        "id": "xOMwCTIRM_Os",
        "outputId": "01ff965e-b682-4960-ef9d-c9da13103bf2"
      },
      "outputs": [
        {
          "output_type": "stream",
          "name": "stdout",
          "text": [
            "=== Model Saving and Loading ===\n",
            "Saved complete model to 'complete_model.pth'\n",
            "Saved model checkpoint to 'model_checkpoint.pth'\n",
            "Saved model state to 'model_state.pth'\n",
            "\n",
            "=== Loading Models ===\n",
            "Loaded model from checkpoint (epoch 50, loss: 0.1995)\n",
            "Outputs are identical: False\n",
            "Cleaned up complete_model.pth\n",
            "Cleaned up model_checkpoint.pth\n",
            "Cleaned up model_state.pth\n"
          ]
        }
      ],
      "source": [
        "print(\"=== Model Saving and Loading ===\")\n",
        "\n",
        "# Method 1: Save entire model (simple but less flexible)\n",
        "torch.save(model, 'complete_model.pth')\n",
        "print(\"Saved complete model to 'complete_model.pth'\")\n",
        "\n",
        "# Method 2: Save state dictionary (recommended)\n",
        "checkpoint = {\n",
        "    'model_state_dict': model.state_dict(),\n",
        "    'optimizer_state_dict': optimizer.state_dict(),\n",
        "    'loss': test_loss.item(),\n",
        "    'epoch': n_epochs\n",
        "}\n",
        "torch.save(checkpoint, 'model_checkpoint.pth')\n",
        "print(\"Saved model checkpoint to 'model_checkpoint.pth'\")\n",
        "\n",
        "# Method 3: Save just the state dict\n",
        "torch.save(model.state_dict(), 'model_state.pth')\n",
        "print(\"Saved model state to 'model_state.pth'\")\n",
        "\n",
        "# Loading models\n",
        "print(\"\\n=== Loading Models ===\")\n",
        "\n",
        "# Method 1: Load entire model - REMOVED DUE TO ERROR\n",
        "# loaded_model = torch.load('complete_model.pth', map_location='cpu')\n",
        "# print(f\"Loaded complete model: {type(loaded_model)}\")\n",
        "\n",
        "# Method 2: Load from checkpoint (recommended)\n",
        "new_model = SimpleNet(n_features, 64, n_classes)\n",
        "new_optimizer = optim.Adam(new_model.parameters(), lr=0.001)\n",
        "\n",
        "checkpoint = torch.load('model_checkpoint.pth', map_location='cpu')\n",
        "new_model.load_state_dict(checkpoint['model_state_dict'])\n",
        "new_optimizer.load_state_dict(checkpoint['optimizer_state_dict'])\n",
        "loaded_loss = checkpoint['loss']\n",
        "loaded_epoch = checkpoint['epoch']\n",
        "\n",
        "print(f\"Loaded model from checkpoint (epoch {loaded_epoch}, loss: {loaded_loss:.4f})\")\n",
        "\n",
        "# Verify models are identical\n",
        "with torch.no_grad():\n",
        "    test_input = torch.randn(1, n_features)\n",
        "    # original_output = model(test_input) # Need to keep original model to compare\n",
        "    loaded_output = new_model(test_input) # Use the new_model\n",
        "\n",
        "    # Compare loaded model with the original model\n",
        "    original_output = model(test_input)\n",
        "    print(f\"Outputs are identical: {torch.allclose(original_output, loaded_output)}\")\n",
        "\n",
        "\n",
        "# Clean up saved files\n",
        "import os\n",
        "for file in ['complete_model.pth', 'model_checkpoint.pth', 'model_state.pth']:\n",
        "    if os.path.exists(file):\n",
        "        os.remove(file)\n",
        "        print(f\"Cleaned up {file}\")"
      ]
    },
    {
      "cell_type": "markdown",
      "metadata": {
        "id": "WCQpnfXLM_Os"
      },
      "source": [
        "## Summary\n",
        "\n",
        "Congratulations! You've learned the fundamental concepts of PyTorch:\n",
        "\n",
        "### 🎯 **Key Concepts Covered:**\n",
        "1. **Tensors** - PyTorch's fundamental data structure\n",
        "2. **Autograd** - Automatic differentiation for gradient computation\n",
        "3. **Neural Networks** - Building models with `nn.Module`\n",
        "4. **Loss Functions** - Measuring model performance (MSE, CrossEntropy, etc.)\n",
        "5. **Training Loops** - Complete training pipeline\n",
        "6. **Model Persistence** - Saving and loading models\n",
        "\n",
        "### 🚀 **Next Steps:**\n",
        "- Explore the other projects in this repository\n",
        "- Try building different architectures (CNNs, RNNs, Transformers)\n",
        "- Experiment with real datasets (MNIST, CIFAR-10, etc.)\n",
        "- Learn about advanced topics like regularization and learning rate scheduling\n",
        "\n",
        "### 📚 **Recommended Learning Path:**\n",
        "1. **`pytorch_basic`** (This notebook) ✅\n",
        "2. **`linear_regression_from_scratch`** - Apply basics to a simple problem\n",
        "3. **`lenet5_from_scratch`** - Learn CNNs for image classification\n",
        "4. **`transformer_from_scratch`** - Understand attention mechanisms\n",
        "5. **Advanced architectures** - GANs, VAEs, and more\n",
        "\n",
        "### 💡 **Key PyTorch Patterns:**\n",
        "```python\n",
        "# 1. Define model\n",
        "model = nn.Sequential(nn.Linear(10, 5), nn.ReLU(), nn.Linear(5, 1))\n",
        "\n",
        "# 2. Set up training\n",
        "criterion = nn.MSELoss()\n",
        "optimizer = optim.Adam(model.parameters(), lr=0.001)\n",
        "\n",
        "# 3. Training loop\n",
        "for epoch in range(epochs):\n",
        "    for batch in dataloader:\n",
        "        optimizer.zero_grad()  # Clear gradients\n",
        "        output = model(batch_x)  # Forward pass\n",
        "        loss = criterion(output, batch_y)  # Compute loss\n",
        "        loss.backward()  # Backward pass\n",
        "        optimizer.step()  # Update parameters\n",
        "```\n",
        "\n",
        "Happy learning! 🎉\n"
      ]
    }
  ],
  "metadata": {
    "language_info": {
      "name": "python"
    },
    "colab": {
      "provenance": []
    },
    "kernelspec": {
      "name": "python3",
      "display_name": "Python 3"
    }
  },
  "nbformat": 4,
  "nbformat_minor": 0
}